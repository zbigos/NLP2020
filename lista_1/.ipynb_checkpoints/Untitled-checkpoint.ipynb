{
 "cells": [
  {
   "cell_type": "markdown",
   "metadata": {},
   "source": [
    "# LISTA 1"
   ]
  },
  {
   "cell_type": "markdown",
   "metadata": {},
   "source": [
    "## GLOBAL SETUP"
   ]
  },
  {
   "cell_type": "code",
   "execution_count": 3,
   "metadata": {},
   "outputs": [],
   "source": [
    "import numpy as np\n",
    "import os\n",
    "import statistics\n",
    "from tqdm.notebook import tqdm\n",
    "import re\n",
    "from sys import getsizeof\n",
    "import sys\n",
    "import copy\n",
    "import nltk\n",
    "import collections\n",
    "import random\n",
    "import itertools"
   ]
  },
  {
   "cell_type": "markdown",
   "metadata": {},
   "source": [
    "## ZADANIE 1"
   ]
  },
  {
   "cell_type": "code",
   "execution_count": 4,
   "metadata": {},
   "outputs": [
    {
     "data": {
      "application/vnd.jupyter.widget-view+json": {
       "model_id": "3c06d9421e9644179bae417914559aa0",
       "version_major": 2,
       "version_minor": 0
      },
      "text/plain": [
       "HBox(children=(FloatProgress(value=0.0, max=59134224.0), HTML(value='')))"
      ]
     },
     "metadata": {},
     "output_type": "display_data"
    },
    {
     "name": "stdout",
     "output_type": "stream",
     "text": [
      "\n",
      "read 3591116, longest one is 125\n"
     ]
    }
   ],
   "source": [
    "def Succ1Grams():\n",
    "    data = set()\n",
    "    \n",
    "    #num_lines = sum(1 for line in open('poleval_2grams.txt'))\n",
    "    num_lines = 59134224\n",
    "    lines_read = 0\n",
    "    with open(\"poleval_2grams.txt\", \"r\") as f:\n",
    "        with tqdm(total=num_lines) as pbar:\n",
    "            line = f.readline()\n",
    "            while line:\n",
    "                if lines_read > 10000:\n",
    "                    pbar.update(lines_read)\n",
    "                    lines_read = 0\n",
    "                    pbar.set_description(f\"memory used {sys.getsizeof(data)/1024/1024} MB\")\n",
    "                lines_read += 1\n",
    "                wc, wl, wp = line.replace(\"\\n\", \"\").split(\" \")\n",
    "                data.add(wl)\n",
    "                data.add(wp)\n",
    "\n",
    "                #if len(t) < 50:\n",
    "                #    data.append(t)\n",
    "                line = f.readline()\n",
    "                if len(data) > 10000000:\n",
    "                    break\n",
    "    return data\n",
    "\n",
    "singletons = Succ1Grams()\n",
    "maxlen = max(len(s) for s in singletons)\n",
    "print(f\"read {len(singletons)}, longest one is {maxlen}\")\n",
    "maxlen = 25"
   ]
  },
  {
   "cell_type": "code",
   "execution_count": 5,
   "metadata": {},
   "outputs": [],
   "source": [
    "def OwnMatch(w):\n",
    "    graph = [[] for _ in w]\n",
    "    for slit in range(len(w)):\n",
    "        for forward_succ in range(5):\n",
    "            taken = w[slit:slit+forward_succ+1]\n",
    "            if len(taken) == forward_succ+1:\n",
    "                if taken in singletons:\n",
    "                    graph[slit].append(slit + forward_succ + 1)\n",
    "\n",
    "    #print(f\"neighbor matrix\")\n",
    "    #display(graph)\n",
    "\n",
    "    dp = [(0, None) for _ in range(len(w)+1)]\n",
    "    for i in range(len(w)-1):\n",
    "        for jt in graph[i]:\n",
    "            if dp[jt][0] < (dp[i][0] + (i-jt)**2):\n",
    "                dp[jt] = (dp[i][0] + (i-jt)**2, i)\n",
    "\n",
    "    #display(dp)\n",
    "\n",
    "    baked = []\n",
    "    ls = dp[-1][1]\n",
    "    fs = len(w)\n",
    "    while ls != None:\n",
    "        baked.append(w[ls:fs])\n",
    "        fs = ls\n",
    "        ls = dp[ls][1]\n",
    "        \n",
    "    baked.reverse()\n",
    "    \n",
    "    return baked "
   ]
  },
  {
   "cell_type": "code",
   "execution_count": 6,
   "metadata": {},
   "outputs": [],
   "source": [
    "def MaxMatch(w, verbose = False):\n",
    "    wp = w\n",
    "    tokenized = []\n",
    "    succ = 1\n",
    "    best = (0, \"reeee\")\n",
    "    \n",
    "    while len(w) > 0:\n",
    "        try_ = w[:succ]\n",
    "        if try_ in singletons:\n",
    "            if verbose:\n",
    "                print(f\"found candidate {try_}\")\n",
    "            best = (succ, try_) \n",
    "\n",
    "        succ += 1\n",
    "        \n",
    "        if succ > maxlen or try_ == w:\n",
    "            if best[0] == 0:\n",
    "                raise Exception(f\"could not match {w[:succ]} in {wp}\")\n",
    "            else:\n",
    "                if verbose:\n",
    "                    print(f\"longest match was {best[1]}\")\n",
    "                tokenized.append(best[1])\n",
    "                if verbose:\n",
    "                    print(f\"transforming {w} -> {w[best[0]:]}\")\n",
    "                w = w[best[0]:]\n",
    "                succ = 1\n",
    "                best = (0, \"reeee\")\n",
    "    return tokenized"
   ]
  },
  {
   "cell_type": "code",
   "execution_count": 7,
   "metadata": {},
   "outputs": [],
   "source": [
    "# implementation stolen from https://blog.paperspace.com/implementing-levenshtein-distance-word-autocomplete-autocorrect/\n",
    "# since jupyter considered that importing\n",
    "# python-levenstein is on the same level as breaking the geneva\n",
    "# convention\n",
    "\n",
    "def levenshteinDistanceDP(token1, token2):\n",
    "    distances = np.zeros((len(token1) + 1, len(token2) + 1))\n",
    "\n",
    "    for t1 in range(len(token1) + 1):\n",
    "        distances[t1][0] = t1\n",
    "\n",
    "    for t2 in range(len(token2) + 1):\n",
    "        distances[0][t2] = t2\n",
    "        \n",
    "    a = 0\n",
    "    b = 0\n",
    "    c = 0\n",
    "    \n",
    "    for t1 in range(1, len(token1) + 1):\n",
    "        for t2 in range(1, len(token2) + 1):\n",
    "            if (token1[t1-1] == token2[t2-1]):\n",
    "                distances[t1][t2] = distances[t1 - 1][t2 - 1]\n",
    "            else:\n",
    "                a = distances[t1][t2 - 1]\n",
    "                b = distances[t1 - 1][t2]\n",
    "                c = distances[t1 - 1][t2 - 1]\n",
    "                \n",
    "                if (a <= b and a <= c):\n",
    "                    distances[t1][t2] = a + 1\n",
    "                elif (b <= a and b <= c):\n",
    "                    distances[t1][t2] = b + 1\n",
    "                else:\n",
    "                    distances[t1][t2] = c + 1\n",
    "\n",
    "    return distances[len(token1)][len(token2)]"
   ]
  },
  {
   "cell_type": "code",
   "execution_count": 8,
   "metadata": {},
   "outputs": [],
   "source": [
    "def perform_test(compare_string):\n",
    "    digested = compare_string.replace(\" \", \"\")\n",
    "    p1 = \" \".join(MaxMatch(digested))\n",
    "    p2 = \" \".join(OwnMatch(digested))\n",
    "    s1 = levenshteinDistanceDP(compare_string, p1)\n",
    "    s2 = levenshteinDistanceDP(compare_string, p2)\n",
    "    #print(compare_string)\n",
    "    #print(f\"MaxMatch returned {p1}, score {s1}\")\n",
    "    #print(f\"OwnCrap returned {p2}, score {s2}\")\n",
    "    return (s1, s2)"
   ]
  },
  {
   "cell_type": "code",
   "execution_count": 9,
   "metadata": {},
   "outputs": [
    {
     "data": {
      "application/vnd.jupyter.widget-view+json": {
       "model_id": "38b207604e7d40c793aec78f151dee56",
       "version_major": 2,
       "version_minor": 0
      },
      "text/plain": [
       "HBox(children=(FloatProgress(value=0.0, max=25.0), HTML(value='')))"
      ]
     },
     "metadata": {},
     "output_type": "display_data"
    },
    {
     "name": "stdout",
     "output_type": "stream",
     "text": [
      "\n",
      "MaxMatch:\n",
      "Mean: 5.6\n",
      "Stdev: 3.547299442298794\n",
      "max: 12.0\n",
      "min: 0.0\n",
      "MyCrap:\n",
      "Mean: 17.8\n",
      "Stdev: 16.91646141090585\n",
      "max: 48.0\n",
      "min: 3.0\n"
     ]
    }
   ],
   "source": [
    "poem = '''Jedzie Wojtuś popod lasem, skrajem dąbrowy,\n",
    "Wiezie se do domu laser, laser gazowy.\n",
    "Pytali się go kolesie, po co to nabył?\n",
    "- A bo właśnie stał w GS-ie, więc kupiłem go Teresie.\n",
    "Dyć coś zawsze przywieźć chce się dla swej baby!\n",
    "Jedzie Wojtuś popod lasem, po twardym dukcie.\n",
    "Wiezie se do domu laser, czyta instrukcję.\n",
    "A instrukcja jest ciekawa: Włączyć do prądu,\n",
    "To ten laser wszystko skrawa, bez różnicy, stal czy trawa\n",
    "I w ogóle jest zabawa prawie bez swądu.\n",
    "Jedzie Wojtuś popod lasem, woła: Wio, wiśta!\n",
    "Wiezie se do domu laser, tak se rozmyśla:\n",
    "Jak w tym dojdę do biegłości, będzie wygodnie,\n",
    "Jest tu paru wrednych gości, przyceluję se w skrytości\n",
    "I padalcom z odległości podpalę spodnie!\n",
    "Jedzie Wojtuś popod lasem, rad, że o rany\n",
    "Wiezie se do domu laser, układa plany:\n",
    "Niech spróbuje na rowerze jeździć Kaczmarski,\n",
    "Zaraz w dętkę mu przymierzę, i kartofle się obierze,\n",
    "I wywierci dziury w serze, by był śwajcarski!\n",
    "Jedzie Wojtuś popod lasem, skręcił przy POM-ie.\n",
    "Wiezie se do domu laser schowany w słomie.\n",
    "Na podwórku cielę bryka, kaczki na stawie...\n",
    "Wdziera, wdziera się technika coraz częściej w dom rolnika,\n",
    "Jeszcze to nie Ameryka.... Ale już prawie!!! '''\n",
    "\n",
    "tMM, tMC = [], []\n",
    "for l in tqdm(poem.split(\"\\n\")):\n",
    "    retMM, retMC = perform_test(l.lower().replace(\",\", \"\"))\n",
    "    tMM.append(retMM)\n",
    "    tMC.append(retMC)\n",
    "    \n",
    "print(\"MaxMatch:\")\n",
    "print(f\"Mean: {statistics.mean(tMM)}\")\n",
    "print(f\"Stdev: {statistics.stdev(tMM)}\")\n",
    "print(f\"max: {max(tMM)}\")\n",
    "print(f\"min: {min(tMM)}\")\n",
    "\n",
    "print(\"MyCrap:\")\n",
    "print(f\"Mean: {statistics.mean(tMC)}\")\n",
    "print(f\"Stdev: {statistics.stdev(tMC)}\")\n",
    "print(f\"max: {max(tMC)}\")\n",
    "print(f\"min: {min(tMC)}\")\n",
    "\n",
    "\n",
    "#MaxMatch:\n",
    "#Mean: 5.96\n",
    "#Stdev: 4.6141087980237305\n",
    "#max: 17.0\n",
    "#min: 0.0\n",
    "#MyCrap:\n",
    "#Mean: 13.68\n",
    "#Stdev: 12.294036494712927\n",
    "#max: 48.0\n",
    "#min: 4.0"
   ]
  },
  {
   "cell_type": "markdown",
   "metadata": {},
   "source": [
    "## ZADANIE 2 i 3\n"
   ]
  },
  {
   "cell_type": "code",
   "execution_count": 10,
   "metadata": {},
   "outputs": [
    {
     "data": {
      "application/vnd.jupyter.widget-view+json": {
       "model_id": "53bf3d9d13644955ad5fc4bbb0fd8251",
       "version_major": 2,
       "version_minor": 0
      },
      "text/plain": [
       "HBox(children=(FloatProgress(value=0.0, max=59134224.0), HTML(value='')))"
      ]
     },
     "metadata": {},
     "output_type": "display_data"
    },
    {
     "name": "stdout",
     "output_type": "stream",
     "text": [
      "\n"
     ]
    },
    {
     "data": {
      "text/plain": [
       "defaultdict(<function __main__.calculate_bigrams.<locals>.<lambda>()>,\n",
       "            {'zresztą': 1,\n",
       "             'fly': 2,\n",
       "             'bita': 1,\n",
       "             'będzie': 1,\n",
       "             '.': 27,\n",
       "             ',': 39,\n",
       "             '-': 4,\n",
       "             '(': 2,\n",
       "             'w': 11,\n",
       "             'z': 16,\n",
       "             'o': 1,\n",
       "             'i': 10,\n",
       "             '2001r': 1,\n",
       "             'puszyste': 2,\n",
       "             'tam': 1,\n",
       "             'starsze': 2,\n",
       "             '....': 1,\n",
       "             'panie': 1,\n",
       "             '2.': 1,\n",
       "             'naprawde': 1,\n",
       "             'obok': 1,\n",
       "             'urosnie': 1,\n",
       "             'blada': 20,\n",
       "             '!': 2,\n",
       "             ')': 2,\n",
       "             'a': 4,\n",
       "             'zapragnie': 1,\n",
       "             'niezły': 1,\n",
       "             'imo': 1,\n",
       "             'podobne': 1,\n",
       "             'ich': 1,\n",
       "             'latynoski': 5,\n",
       "             'mnie': 1,\n",
       "             'pornosy': 1,\n",
       "             'nic': 1,\n",
       "             'nie': 7,\n",
       "             'użyłam': 1,\n",
       "             'lecz': 1,\n",
       "             'była': 1,\n",
       "             'jesteś': 2,\n",
       "             'cicho': 1,\n",
       "             'wyja': 1,\n",
       "             'paetza': 1,\n",
       "             'trze': 1,\n",
       "             'należała': 1,\n",
       "             'emilia': 1,\n",
       "             'prima': 1,\n",
       "             'cała': 1,\n",
       "             'diva': 1,\n",
       "             'zbita': 9,\n",
       "             'dupa': 2,\n",
       "             'dupy': 4,\n",
       "             'cnotę': 1,\n",
       "             'sekretarki': 2,\n",
       "             'bez': 1,\n",
       "             'sie': 1,\n",
       "             'dobrze': 1,\n",
       "             'jakos': 1,\n",
       "             'orangutana': 1,\n",
       "             'dzikie': 2,\n",
       "             'dziewicy': 1,\n",
       "             'czterdziestolatki': 2,\n",
       "             'jesteście': 1,\n",
       "             'spalat': 1,\n",
       "             'sluzy': 1,\n",
       "             'prace': 1,\n",
       "             'trafia': 1,\n",
       "             'wydymana': 1,\n",
       "             'blondynkli': 1,\n",
       "             'boli': 4,\n",
       "             'wspólna': 1,\n",
       "             'kręci': 1,\n",
       "             'duża': 1,\n",
       "             'sex': 7,\n",
       "             'mamy': 2,\n",
       "             'wyszła': 1,\n",
       "             'chce': 1,\n",
       "             'gołej': 1,\n",
       "             'ślicznej': 1,\n",
       "             'youtube': 2,\n",
       "             'szparka': 1,\n",
       "             'pani': 1,\n",
       "             'pana': 1,\n",
       "             'siedzi': 1,\n",
       "             'znów': 1,\n",
       "             'spełniła': 1,\n",
       "             'wszedzie': 1,\n",
       "             'która': 1,\n",
       "             'cieżarne': 1,\n",
       "             'lawke': 1,\n",
       "             'siedział': 1,\n",
       "             'anal': 1,\n",
       "             'cateva': 1,\n",
       "             'hipopotama': 1,\n",
       "             'po': 2,\n",
       "             'tłuste': 1,\n",
       "             'maryni': 1,\n",
       "             'wychodza': 1,\n",
       "             'marznie': 1,\n",
       "             'wszystko': 1,\n",
       "             'się': 3,\n",
       "             'hoża': 1,\n",
       "             'to': 3,\n",
       "             'ta': 1,\n",
       "             'zimna': 1,\n",
       "             'należy': 1,\n",
       "             'dupeczka': 1,\n",
       "             'ze': 6,\n",
       "             'jeszcze': 1,\n",
       "             'przebieralnia': 2,\n",
       "             'wielka': 1,\n",
       "             'weza': 3,\n",
       "             'nastolatki': 1,\n",
       "             'mamusśki': 1,\n",
       "             'jest': 6,\n",
       "             'lekka': 1,\n",
       "             'by': 1,\n",
       "             'bo': 2,\n",
       "             'wolowa': 2,\n",
       "             'urośnie-ale': 1,\n",
       "             'ce': 1,\n",
       "             'wołowa': 1,\n",
       "             'do': 1,\n",
       "             'rośnie': 1,\n",
       "             'starego': 1,\n",
       "             'orgasms': 2,\n",
       "             '...': 7,\n",
       "             'ja': 1,\n",
       "             'lubi': 1,\n",
       "             'www': 2,\n",
       "             'na': 5,\n",
       "             'swędzi': 1,\n",
       "             'jak': 2,\n",
       "             'tricki': 1,\n",
       "             ':': 2,\n",
       "             'zwykle': 1,\n",
       "             'albo': 3,\n",
       "             'razem': 1,\n",
       "             'zabiła': 1,\n",
       "             'jasiu': 1,\n",
       "             'fetysz': 4,\n",
       "             'cie': 1,\n",
       "             'słonia': 2,\n",
       "             'przez': 1,\n",
       "             'jestem': 1,\n",
       "             'cycki': 1,\n",
       "             'porno': 2,\n",
       "             'węża': 2,\n",
       "             'ścisko': 1,\n",
       "             'ściska': 1,\n",
       "             'nawet': 1,\n",
       "             'chyba': 1,\n",
       "             'twa': 1,\n",
       "             'onanizm': 1,\n",
       "             'niecała': 1,\n",
       "             'wyruchana': 1,\n",
       "             'zbynia': 1,\n",
       "             'saskue': 1,\n",
       "             'bedzie': 1,\n",
       "             'amatorski': 2,\n",
       "             'zrobiła': 1,\n",
       "             'musi': 1,\n",
       "             'jaka': 1})"
      ]
     },
     "execution_count": 10,
     "metadata": {},
     "output_type": "execute_result"
    }
   ],
   "source": [
    "def calculate_bigrams():\n",
    "    ins = collections.defaultdict(lambda: 0)\n",
    "    bigrams = collections.defaultdict(lambda: copy.deepcopy(ins))\n",
    "    num_lines = 59134224\n",
    "    lines_read = 0\n",
    "    with open(\"poleval_2grams.txt\", \"r\") as f:\n",
    "        with tqdm(total=num_lines) as pbar:\n",
    "            line = f.readline()\n",
    "            while line:\n",
    "                if lines_read > 10000:\n",
    "                    pbar.update(lines_read)\n",
    "                    lines_read = 0\n",
    "                    pbar.set_description(f\"memory used {sys.getsizeof(bigrams)/1024/1024} MB\")\n",
    "                lines_read += 1\n",
    "                wc, wl, wp = line.replace(\"\\n\", \"\").split(\" \")\n",
    "                bigrams[wl][wp] = int(wc)\n",
    "\n",
    "                line = f.readline()\n",
    "                if len(bigrams) > 10000000:\n",
    "                    break\n",
    "    return bigrams\n",
    "            \n",
    "bigrams = calculate_bigrams()\n",
    "bigrams['dupa']"
   ]
  },
  {
   "cell_type": "code",
   "execution_count": null,
   "metadata": {},
   "outputs": [],
   "source": []
  },
  {
   "cell_type": "code",
   "execution_count": null,
   "metadata": {},
   "outputs": [],
   "source": []
  },
  {
   "cell_type": "code",
   "execution_count": 11,
   "metadata": {},
   "outputs": [],
   "source": [
    "import time\n",
    "def generate_story(max_len, starting, distribution):\n",
    "    if max_len == 0:\n",
    "        max_len = 1000000\n",
    "    if starting == None:\n",
    "        starting = \"<BOS>\"\n",
    "        \n",
    "    while(max_len > 0):\n",
    "        print(starting, end = ' ')\n",
    "        max_len -= 1\n",
    "        candidates = bigrams[starting]\n",
    "        \n",
    "        if distribution == \"random\":\n",
    "            candidates = [i[0] for i in candidates.items()]\n",
    "            if len(candidates) == 0:\n",
    "                return\n",
    "            starting = random.choice(candidates) \n",
    "            \n",
    "        if distribution == \"weight\":\n",
    "            if len([i[0] for i in candidates.items()]) == 0:\n",
    "                return\n",
    "            \n",
    "            all_ents = sum([i[1] for i in candidates.items()])\n",
    "            chosen = random.randint(0, all_ents)\n",
    "            for cit in candidates.items():\n",
    "                chosen -= cit[1]\n",
    "                if chosen <= 0:\n",
    "                    starting = cit[0]\n",
    "                    break\n",
    "                    \n",
    "            "
   ]
  },
  {
   "cell_type": "code",
   "execution_count": 12,
   "metadata": {},
   "outputs": [
    {
     "name": "stdout",
     "output_type": "stream",
     "text": [
      "papież jan kobuszewski , gdzie prowadził intensywny ogień artyleryjski c7p zatwierdzono wnioski : a 3 art. 12 lutego przyniosła w lizbonie . <EOS> \n",
      "=======\n",
      "papież benedykt xvi wieku sony ericsson c702 , podzespoły komputerowe itp. ) . <EOS> \n",
      "=======\n",
      "papież bardzo wielu pracowników , czytelnik gazet , grając m.in. w takim określeniem zasad prowadzenia własnej winy . <EOS> \n",
      "=======\n",
      "papież jan draus podał w stanach zjednoczonych szacuje , hala globus w wyniku modernizacji i będzie jedynie niedokończona książka została ona realizowana zgodnie z obozu transporty zboża , wyróżniających się więc rząd rewolucyjny pomysł jednak zobowiązany jest policjantem , pisał o terenach cmentarzy braci jej ubytku wpływów w art. 226 posłów jest sens demokracji nie wraca do francji uciekło z tym etapie opisujemy plan na rynek pracy chronionej . <EOS> \n",
      "=======\n",
      "papież umartwiał swoje spory . <EOS> \n",
      "=======\n",
      "papież klemens murańka i cięższe od postawionych w mojej ocenie sądu rodzinnego z odsetek , którą narażonych korzystać z o.o. koncesji na indywidualne podejście trochę egoistycznych samotników i język siedziby , demokrata z wnioskiem do czynienia z czasem mają istnieć . <EOS> \n",
      "=======\n",
      "papież podkreślił , jeżeli poprawka nr 67 spółdzielnie socjalne , co już nie o niesłabnącym uznaniem roszczenia odszkodowawcze został zespół , m.in. złagodzenie negatywnych ocen oddziaływania na rzecz tych urządzeń stacyjnych . <EOS> \n",
      "=======\n",
      "papież koronował papieży . <EOS> \n",
      "=======\n",
      "papież pius vi stuleciu osiadłych w późniejszym terminie przedstawił mój ogień . <EOS> \n",
      "=======\n",
      "papież , nauczyciel . <EOS> \n",
      "=======\n"
     ]
    }
   ],
   "source": [
    "for i in range(10):\n",
    "    generate_story(0, \"papież\", \"weight\")\n",
    "    print(\"\\n=======\")"
   ]
  },
  {
   "cell_type": "markdown",
   "metadata": {},
   "source": [
    "## ZADANIE 4"
   ]
  },
  {
   "cell_type": "code",
   "execution_count": 13,
   "metadata": {},
   "outputs": [],
   "source": [
    "def calculate_sufix(suflen):\n",
    "    ins = collections.defaultdict(lambda: 0)\n",
    "    sufgrams = collections.defaultdict(lambda: copy.deepcopy(ins))\n",
    "    procd = 0\n",
    "    pbar = tqdm(total=len(bigrams.keys()))\n",
    "    \n",
    "    for w1 in bigrams.keys():\n",
    "        procd += 1\n",
    "\n",
    "        if procd > 1000:\n",
    "            procd = 0\n",
    "            pbar.update(1000)\n",
    "            pbar.set_description(f\"memory used {str(sys.getsizeof(sufgrams)/1024/1024)[:5]} MB\")\n",
    "\n",
    "        if len(w1) > suflen:\n",
    "            pref_sufix = str(w1)[-suflen:]\n",
    "            for w2 in bigrams[w1].keys():\n",
    "                if len(str(w2)) > suflen:\n",
    "                    suf_sufix = str(w2)[-suflen:]\n",
    "                    sufgrams[pref_sufix][suf_sufix] += bigrams[w1][w2]\n",
    "                    \n",
    "    # normalize ...\n",
    "    biggest = 0\n",
    "    for w1 in sufgrams.keys():\n",
    "        for w2 in sufgrams[w1].keys():\n",
    "            biggest = max(biggest, sufgrams[w1][w2])\n",
    "    print(f\"maximum score was {biggest}\")\n",
    "    for w1 in sufgrams.keys():\n",
    "        for w2 in sufgrams[w1].keys():\n",
    "            sufgrams[w1][w2] = float(sufgrams[w1][w2])/float(biggest)\n",
    "    \n",
    "    pbar.close()\n",
    "    return sufgrams"
   ]
  },
  {
   "cell_type": "code",
   "execution_count": 14,
   "metadata": {},
   "outputs": [
    {
     "data": {
      "application/vnd.jupyter.widget-view+json": {
       "model_id": "7a7ce77215844712b16551e3a945e573",
       "version_major": 2,
       "version_minor": 0
      },
      "text/plain": [
       "HBox(children=(FloatProgress(value=0.0, max=3591116.0), HTML(value='')))"
      ]
     },
     "metadata": {},
     "output_type": "display_data"
    },
    {
     "name": "stdout",
     "output_type": "stream",
     "text": [
      "maximum score was 7795541\n",
      "\n"
     ]
    },
    {
     "data": {
      "application/vnd.jupyter.widget-view+json": {
       "model_id": "58d8bf3c6fe9496296e1a4c65fc70801",
       "version_major": 2,
       "version_minor": 0
      },
      "text/plain": [
       "HBox(children=(FloatProgress(value=0.0, max=3591116.0), HTML(value='')))"
      ]
     },
     "metadata": {},
     "output_type": "display_data"
    },
    {
     "name": "stdout",
     "output_type": "stream",
     "text": [
      "maximum score was 2372865\n",
      "\n"
     ]
    },
    {
     "data": {
      "application/vnd.jupyter.widget-view+json": {
       "model_id": "0695ddccb72f4422989ac64d8587d7a5",
       "version_major": 2,
       "version_minor": 0
      },
      "text/plain": [
       "HBox(children=(FloatProgress(value=0.0, max=3591116.0), HTML(value='')))"
      ]
     },
     "metadata": {},
     "output_type": "display_data"
    },
    {
     "name": "stdout",
     "output_type": "stream",
     "text": [
      "maximum score was 1022463\n",
      "\n"
     ]
    },
    {
     "data": {
      "application/vnd.jupyter.widget-view+json": {
       "model_id": "23adb6b415914990b871a61f7ed899ad",
       "version_major": 2,
       "version_minor": 0
      },
      "text/plain": [
       "HBox(children=(FloatProgress(value=0.0, max=3591116.0), HTML(value='')))"
      ]
     },
     "metadata": {},
     "output_type": "display_data"
    },
    {
     "name": "stdout",
     "output_type": "stream",
     "text": [
      "maximum score was 269347\n",
      "\n"
     ]
    },
    {
     "data": {
      "application/vnd.jupyter.widget-view+json": {
       "model_id": "3368a3e736804fc9ba903d8eed9d1a63",
       "version_major": 2,
       "version_minor": 0
      },
      "text/plain": [
       "HBox(children=(FloatProgress(value=0.0, max=3591116.0), HTML(value='')))"
      ]
     },
     "metadata": {},
     "output_type": "display_data"
    },
    {
     "name": "stdout",
     "output_type": "stream",
     "text": [
      "maximum score was 128690\n",
      "\n"
     ]
    }
   ],
   "source": [
    "bigram_suflist = [calculate_sufix(i) for i in range(1, 6)]"
   ]
  },
  {
   "cell_type": "code",
   "execution_count": null,
   "metadata": {},
   "outputs": [
    {
     "data": {
      "application/vnd.jupyter.widget-view+json": {
       "model_id": "0db7726e6ad74b279bc3cba2cc141ad0",
       "version_major": 2,
       "version_minor": 0
      },
      "text/plain": [
       "HBox(children=(FloatProgress(value=0.0, max=179473348.0), HTML(value='')))"
      ]
     },
     "metadata": {},
     "output_type": "display_data"
    }
   ],
   "source": [
    "def succ_3grams():\n",
    "    ins = collections.defaultdict(lambda: 0)\n",
    "    insd = collections.defaultdict(lambda: copy.deepcopy(ins))\n",
    "    trigrams = collections.defaultdict(lambda: copy.deepcopy(insd))\n",
    "    \n",
    "    num_lines = 179473348\n",
    "    lines_read = 0\n",
    "    mv = 0\n",
    "    with open(\"poleval_3grams.txt\", \"r\") as f:\n",
    "        with tqdm(total=num_lines) as pbar:\n",
    "            line = f.readline()\n",
    "            while line:\n",
    "                if lines_read > 10000:\n",
    "                    pbar.update(lines_read)\n",
    "                    lines_read = 0\n",
    "                    pbar.set_description(f\"memory used {sys.getsizeof(trigrams)/1024/1024} MB\")\n",
    "\n",
    "                lines_read += 1\n",
    "                try:\n",
    "                    wc, w1, w2, w3 = line.replace(\"\\n\", \"\").split(\" \")\n",
    "                    trigrams[w1][w2][w3] += int(wc)\n",
    "                    mv = max(mv, trigrams[w1][w2][w3])\n",
    "                except Exception:\n",
    "                    pass\n",
    "                line = f.readline()\n",
    " \n",
    "    return (bigrams, mv)\n",
    "            \n",
    "trigrams, max_c = succ_3grams()\n",
    "print(f\"normalize by {max_c}\")\n",
    "trigrams['dupa']"
   ]
  },
  {
   "cell_type": "code",
   "execution_count": null,
   "metadata": {},
   "outputs": [],
   "source": [
    "def check_for_bigram(wa, wb):\n",
    "    return bigrams[wa][wb]\n",
    "\n",
    "def check_for_bisuf(wa, wb):\n",
    "    best = 0\n",
    "    it = 5\n",
    "    if len(wa) > it and len(wb) > it:\n",
    "        sufa = wa[-it:]\n",
    "        sufb = wa[-it:]\n",
    "        best = max(best, bigram_suflist[it-1][sufa][sufb])\n",
    "    return best\n",
    "\n",
    "\n",
    "def permutation_analizer(sentence):\n",
    "    results = []\n",
    "    for pp in itertools.permutations(sentence):\n",
    "        p = [\"<BOS>\"] + list(pp) + [\"<EOS>\"]\n",
    "        \n",
    "        bs = sum(check_for_bigram(p[pit], p[pit+1]) for pit in range(len(p) - 1))\n",
    "        bss = sum(check_for_bisuf(p[pit], p[pit+1]) for pit in range(len(p) - 1))\n",
    "        \n",
    "        results.append((-bss, p))\n",
    "    \n",
    "    res = sorted(results)\n",
    "    for r in res[:10]:\n",
    "        print(r)\n",
    "            \n",
    "permutation_analizer(\"wczoraj wieczorem spotkałem pewną piękną kobietę\".split(\" \"))\n",
    "#permutation_analizer([\"judyta\", \"dała\", \"wczoraj\", \"stefanowi\", \"czekoladki\"])"
   ]
  },
  {
   "cell_type": "code",
   "execution_count": null,
   "metadata": {},
   "outputs": [],
   "source": []
  },
  {
   "cell_type": "code",
   "execution_count": null,
   "metadata": {},
   "outputs": [],
   "source": []
  }
 ],
 "metadata": {
  "kernelspec": {
   "display_name": "Python 3",
   "language": "python",
   "name": "python3"
  },
  "language_info": {
   "codemirror_mode": {
    "name": "ipython",
    "version": 3
   },
   "file_extension": ".py",
   "mimetype": "text/x-python",
   "name": "python",
   "nbconvert_exporter": "python",
   "pygments_lexer": "ipython3",
   "version": "3.8.3"
  }
 },
 "nbformat": 4,
 "nbformat_minor": 4
}
