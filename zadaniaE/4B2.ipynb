{
 "cells": [
  {
   "cell_type": "code",
   "execution_count": 1,
   "metadata": {},
   "outputs": [],
   "source": [
    "import collections\n",
    "import copy\n",
    "from tqdm import tqdm\n",
    "import itertools\n",
    "from multiprocessing import Pool, Process\n",
    "import numpy as np\n",
    "import statistics\n",
    "from IPython.display import clear_output"
   ]
  },
  {
   "cell_type": "code",
   "execution_count": 39,
   "metadata": {},
   "outputs": [
    {
     "name": "stdout",
     "output_type": "stream",
     "text": [
      "oysteóeursuątyśhceszkupowakwięcec\n",
      "-20.72326583694641\n",
      "-20.72326583694641\n"
     ]
    }
   ],
   "source": [
    "knowledgebase = []\n",
    "with open(\"4B2data.txt\", \"r\") as f:\n",
    "    lines = f.read().split(\"\\n\")[:-1]\n",
    "    for line in lines:\n",
    "        for sent in line.split():\n",
    "            knowledgebase.append(sent)\n",
    "    \n",
    "print(knowledgebase[0])\n",
    "\n",
    "def calculate_ngrams(knowledge, N, normalize = False):\n",
    "    ngrams = collections.defaultdict(lambda: 0)\n",
    "    for line in knowledge:\n",
    "        lin = [\"<BOS>\"] + list(line) + [\"<EOS>\"]\n",
    "        for sli in range(len(lin) - N + 1):\n",
    "            ngrams[tuple(lin[sli:sli+N])] += 1\n",
    "    \n",
    "    norm = collections.defaultdict(lambda: np.log(0.000000001))\n",
    "    alls = sum(ngrams[k] for k in ngrams.keys())\n",
    "    if not normalize:\n",
    "        return ngrams\n",
    "    \n",
    "    for k in ngrams.keys():\n",
    "        norm[k] = np.log(ngrams[k]/alls)\n",
    "    return norm\n",
    "    \n",
    "ngrams = calculate_ngrams(knowledgebase, 6, True)\n",
    "print(ngrams[('d', 'u', 'p', 'a')])\n",
    "print(ngrams[('c', 'b', 'a', 'q')])\n"
   ]
  },
  {
   "cell_type": "code",
   "execution_count": 40,
   "metadata": {},
   "outputs": [
    {
     "name": "stdout",
     "output_type": "stream",
     "text": [
      "-85.04364509293124\n",
      "-95.36970868539701\n"
     ]
    }
   ],
   "source": [
    "w1 = \"dziewczyna\"\n",
    "w2 = \"dziejszyna\"\n",
    "\n",
    "w1n = calculate_ngrams([w1], 6)\n",
    "w2n = calculate_ngrams([w2], 6)\n",
    "\n",
    "def intersect(model, query):\n",
    "    probability = 0.0\n",
    "    for key in query.keys():\n",
    "        probability += model[key] * query[key]\n",
    "    return probability\n",
    "\n",
    "print(intersect(ngrams, w1n))\n",
    "print(intersect(ngrams, w2n))\n"
   ]
  },
  {
   "cell_type": "code",
   "execution_count": 41,
   "metadata": {},
   "outputs": [
    {
     "name": "stdout",
     "output_type": "stream",
     "text": [
      "0.853885\n"
     ]
    }
   ],
   "source": [
    "with open(\"4B2test.txt\", \"r\") as f:\n",
    "    marks = []\n",
    "    for line in f.read().split(\"\\n\")[:-1]:\n",
    "        tc, tw = line.split()\n",
    "        \n",
    "        cc = calculate_ngrams([tc], 6)\n",
    "        wc = calculate_ngrams([tw], 6)\n",
    "        \n",
    "        pc = intersect(ngrams, cc)\n",
    "        pw = intersect(ngrams, wc)\n",
    "        \n",
    "        if pc == pw:\n",
    "            marks.append(0.5)\n",
    "        elif pc < pw:\n",
    "            marks.append(0.0)\n",
    "        else:\n",
    "            marks.append(1.0)\n",
    "            \n",
    "    print(statistics.mean(marks))"
   ]
  },
  {
   "cell_type": "code",
   "execution_count": 58,
   "metadata": {},
   "outputs": [
    {
     "data": {
      "text/plain": [
       "35.26486040601285"
      ]
     },
     "execution_count": 58,
     "metadata": {},
     "output_type": "execute_result"
    }
   ],
   "source": [
    "letters = list(set(itertools.chain(*knowledgebase)))\n",
    "\n",
    "def performHC(model, query):\n",
    "    qn = calculate_ngrams([query], 6)\n",
    "    baseline = intersect(model, qn)\n",
    "    best = -100000.0\n",
    "    for lit1 in range(len(query)):\n",
    "        for letter1 in letters:\n",
    "            for lit2 in range(len(query)):\n",
    "                for letter2 in letters:\n",
    "                    mockquery = copy.deepcopy(query)\n",
    "                    mcql = list(mockquery)\n",
    "                    mcql[lit1] = letter1\n",
    "                    mcql[lit2] = letter2\n",
    "                    mockquery = \"\".join(mcql)\n",
    "                    qtmp = calculate_ngrams([mockquery], 6)\n",
    "                    testv = intersect(model, qtmp)\n",
    "                    best = max(best, testv)\n",
    "    return abs(baseline-best)\n",
    "    \n",
    "performHC(ngrams, \"kamiqnie\")"
   ]
  },
  {
   "cell_type": "code",
   "execution_count": 60,
   "metadata": {},
   "outputs": [
    {
     "name": "stderr",
     "output_type": "stream",
     "text": [
      "100%|██████████| 1000/1000 [16:00<00:00,  1.04it/s]"
     ]
    },
    {
     "name": "stdout",
     "output_type": "stream",
     "text": [
      "0.8655\n"
     ]
    },
    {
     "name": "stderr",
     "output_type": "stream",
     "text": [
      "\n"
     ]
    }
   ],
   "source": [
    "with open(\"4B2test.txt\", \"r\") as f:\n",
    "    marks = []\n",
    "    for line in tqdm(f.read().split(\"\\n\")[99000:-1]):\n",
    "        tc, tw = line.split()\n",
    "            \n",
    "        pc = performHC(ngrams, tc)\n",
    "        pw = performHC(ngrams, tw)\n",
    "        \n",
    "        if pc == pw:\n",
    "            marks.append(0.5)\n",
    "        elif pc > pw:\n",
    "            marks.append(0.0)\n",
    "        else:\n",
    "            marks.append(1.0)\n",
    "            \n",
    "    print(statistics.mean(marks))"
   ]
  },
  {
   "cell_type": "code",
   "execution_count": null,
   "metadata": {},
   "outputs": [],
   "source": []
  }
 ],
 "metadata": {
  "kernelspec": {
   "display_name": "Python 3",
   "language": "python",
   "name": "python3"
  },
  "language_info": {
   "codemirror_mode": {
    "name": "ipython",
    "version": 3
   },
   "file_extension": ".py",
   "mimetype": "text/x-python",
   "name": "python",
   "nbconvert_exporter": "python",
   "pygments_lexer": "ipython3",
   "version": "3.7.3"
  }
 },
 "nbformat": 4,
 "nbformat_minor": 4
}
